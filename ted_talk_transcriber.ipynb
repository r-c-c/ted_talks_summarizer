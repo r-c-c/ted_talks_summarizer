{
  "nbformat": 4,
  "nbformat_minor": 0,
  "metadata": {
    "colab": {
      "provenance": [],
      "authorship_tag": "ABX9TyPNnWi+0GVb6KYI5NzjFwhK",
      "include_colab_link": true
    },
    "kernelspec": {
      "name": "python3",
      "display_name": "Python 3"
    },
    "language_info": {
      "name": "python"
    },
    "accelerator": "GPU",
    "gpuClass": "standard"
  },
  "cells": [
    {
      "cell_type": "markdown",
      "metadata": {
        "id": "view-in-github",
        "colab_type": "text"
      },
      "source": [
        "<a href=\"https://colab.research.google.com/github/r-c-c/ted_talks_summarizer/blob/main/ted_talk_transcriber.ipynb\" target=\"_parent\"><img src=\"https://colab.research.google.com/assets/colab-badge.svg\" alt=\"Open In Colab\"/></a>"
      ]
    },
    {
      "cell_type": "code",
      "execution_count": 1,
      "metadata": {
        "id": "dBINNngX4acZ"
      },
      "outputs": [],
      "source": [
        "!pip install -q transformers"
      ]
    },
    {
      "cell_type": "code",
      "source": [
        "from transformers import pipeline\n",
        "from requests import get\n",
        "from re import sub\n",
        "from pprint import pprint\n",
        "from warnings import filterwarnings\n",
        "#supress warnings\n",
        "filterwarnings(\"ignore\")"
      ],
      "metadata": {
        "id": "NWCrwm-NIvXW"
      },
      "execution_count": 2,
      "outputs": []
    },
    {
      "cell_type": "code",
      "source": [
        "summarizer = pipeline(\"summarization\", \n",
        "                      'pszemraj/long-t5-tglobal-base-16384-book-summary',\n",
        "                      device=0)"
      ],
      "metadata": {
        "id": "CWIYwFcgCej5"
      },
      "execution_count": 3,
      "outputs": []
    },
    {
      "cell_type": "code",
      "source": [
        "def clean_text(text):\n",
        "    \"\"\"it cleans subtitle text of ted talks\n",
        "    Args:\n",
        "        text (str): subtitle of ted talk\n",
        "    Returns:\n",
        "        cleaned_text (str): cleaned version of subtitle text \n",
        "    \"\"\"\n",
        "    #remove string inside parantheses (i.e appluse)\n",
        "    text=sub(r'\\(.*\\)', '', text)\n",
        "    #format text by splitting/removing new lines\n",
        "    text=text.split(\"\\n\")[1:]\n",
        "    #remove empty strings\n",
        "    text=list(filter(None, text))\n",
        "    #remove timestamps as they contains pattern of \"-->\"\n",
        "    cleaned_text=\" \".join([x.strip() for x in text if \"-->\" not in x])\n",
        "    return cleaned_text\n"
      ],
      "metadata": {
        "id": "SHulQkyv1inW"
      },
      "execution_count": 4,
      "outputs": []
    },
    {
      "cell_type": "code",
      "source": [
        "def ted_talk_transcriber(link):\n",
        "    \"\"\"it yields transcription of ted talks from url\n",
        "    Args:\n",
        "        link (str): url link of ted talks\n",
        "    Returns:\n",
        "        cleaned_transcript (str): transcription of the ted talk\n",
        "    \"\"\"\n",
        "    #request link of the talk\n",
        "    page = get(link)\n",
        "    #extract unique talk id to reach subtitle file\n",
        "    talk_id=str(page.content).split(\"project_masters/\")[1].split(\"/\")[0]\n",
        "    raw_text = get(f'https://hls.ted.com/project_masters/{talk_id}/subtitles/en/full.vtt').text\n",
        "    cleaned_transcript=clean_text(raw_text)\n",
        "    return cleaned_transcript"
      ],
      "metadata": {
        "id": "MaqFWyHSI0Sc"
      },
      "execution_count": 5,
      "outputs": []
    },
    {
      "cell_type": "code",
      "source": [
        "def summ(link):\n",
        "    \"\"\"it produce summary of ted talk by given link.\n",
        "    First, it transcripts the talk then summarizes it.\n",
        "    \n",
        "    Args:\n",
        "        link (str): link of ted talks\n",
        "    Returns:\n",
        "        summary (str): summary of the ted talk transcript\n",
        "    \"\"\"\n",
        "    transcript=ted_talk_transcriber(link)\n",
        "    result = summarizer(transcript)\n",
        "    summary=result[0]['summary_text']\n",
        "    return summary"
      ],
      "metadata": {
        "id": "1HsCrPct4cIR"
      },
      "execution_count": 6,
      "outputs": []
    },
    {
      "cell_type": "code",
      "source": [
        "short_link='https://www.ted.com/talks/jen_gunter_the_truth_about_yeast_in_your_body'\n",
        "pprint(summ(short_link))"
      ],
      "metadata": {
        "id": "FkiKkuljOYKG",
        "colab": {
          "base_uri": "https://localhost:8080/"
        },
        "outputId": "4902e0d3-a752-4d0f-e360-7c95356248ef"
      },
      "execution_count": 7,
      "outputs": [
        {
          "output_type": "stream",
          "name": "stdout",
          "text": [
            "('In this chapter, Jen Gunter explains some of the most common myths about '\n",
            " \"yeast infections and how they're related to overeating sugar. The first \"\n",
            " \"theory is that it's because of the overgrow of the yeast in the gut; then \"\n",
            " \"there's more sugar in the blood, which feeds the yeast. There's also no way \"\n",
            " 'that eating too much sugar can lead to yeast infection.')\n"
          ]
        }
      ]
    },
    {
      "cell_type": "code",
      "source": [
        "link='https://www.ted.com/talks/ted_ed_how_will_ai_change_the_world'\n",
        "pprint(summ(link))"
      ],
      "metadata": {
        "colab": {
          "base_uri": "https://localhost:8080/"
        },
        "id": "cAB6GPcIyOAx",
        "outputId": "3451e0e4-d081-4e1c-e99b-1a121e7b6368"
      },
      "execution_count": 8,
      "outputs": [
        {
          "output_type": "stream",
          "name": "stdout",
          "text": [
            "('In this chapter, the narrator explains how artificial intelligence will '\n",
            " \"change people's lives. He uses examples from his own life to explain that \"\n",
            " \"humans don't have the same sense of responsibility as machines do. He says \"\n",
            " \"that when you ask if someone can get you ice cream, you don'tes mean that \"\n",
            " 'they want to kill everybody in Starbucks to make sure you get it. But when '\n",
            " 'you say that something is important, you really mean that everything else in '\n",
            " 'the world matters. For example, if you wanted to fix the ocean '\n",
            " \"acidification, you wouldn't need to kill all the fish and seaweed. If you \"\n",
            " 'asked for coffee, you would be satisfied with getting it right away. The '\n",
            " 'problem with building an intelligent system now is that we give it a fixed '\n",
            " \"goal. It doesn't matter whether or not there are side effects of the \"\n",
            " 'reaction on the ocean or anything else. When you build an intelligent '\n",
            " \"machine, you know what the true purpose is. That's when you start to exhibit \"\n",
            " 'behavior like asking permission instead of getting rid of oxygen. This '\n",
            " 'happens when you build systems that don1t know what their objective is. '\n",
            " 'People think that they won1t need workers anymore because they already have '\n",
            " 'machines. They also hear stories about how everyone is completely dependent '\n",
            " 'on machines.')\n"
          ]
        }
      ]
    }
  ]
}